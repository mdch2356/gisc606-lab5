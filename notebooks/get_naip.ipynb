{
 "cells": [
  {
   "cell_type": "code",
   "execution_count": null,
   "metadata": {},
   "outputs": [],
   "source": [
    "#How to Download Landsat Remote Sensing Data from Earth Explorer\n",
    "    #Step 1: Define Your Study Area (AOI)\n",
    "    #Step 2: Define the Data That You Want to Download\n",
    "    #Step 3: Click on Results\n",
    "    #Step 4: Download Your Data"
   ]
  }
 ],
 "metadata": {
  "language_info": {
   "name": "python"
  }
 },
 "nbformat": 4,
 "nbformat_minor": 2
}
