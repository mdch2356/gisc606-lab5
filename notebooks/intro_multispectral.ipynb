{
 "cells": [
  {
   "cell_type": "code",
   "execution_count": null,
   "metadata": {},
   "outputs": [],
   "source": [
    "#About Spectral Remote Sensing\n",
    "    #A lidar instrument is an active remote sensing instrument.\n",
    "    #This means that the instrument emits energy actively rather than collecting information about light energy from another source (the sun).\n",
    "    #This week you will work with multispectral imagery or multispectral remote sensing data.\n",
    "    #Multispectral remote sensing is a passive remote sensing type\n",
    "    #This means that the sensor is measuring light energy from an existing source - in this case the sun."
   ]
  }
 ],
 "metadata": {
  "language_info": {
   "name": "python"
  }
 },
 "nbformat": 4,
 "nbformat_minor": 2
}
